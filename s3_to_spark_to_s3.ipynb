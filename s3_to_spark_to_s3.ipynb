{
 "cells": [
  {
   "cell_type": "code",
   "execution_count": 1,
   "id": "910d8e32-810b-4296-bd67-68ce293c1bc6",
   "metadata": {},
   "outputs": [],
   "source": [
    "import findspark\n",
    "findspark.init(\"/opt/spark\")\n",
    "from pyspark.sql import SparkSession, functions as F\n",
    "from pyspark.sql.types import *"
   ]
  },
  {
   "cell_type": "code",
   "execution_count": 2,
   "id": "0339ec39-c842-41ad-b25c-77021b3c3816",
   "metadata": {},
   "outputs": [
    {
     "name": "stdout",
     "output_type": "stream",
     "text": [
      "Collecting findspark\n",
      "  Downloading findspark-2.0.1-py2.py3-none-any.whl.metadata (352 bytes)\n",
      "Downloading findspark-2.0.1-py2.py3-none-any.whl (4.4 kB)\n",
      "Installing collected packages: findspark\n",
      "Successfully installed findspark-2.0.1\n"
     ]
    }
   ],
   "source": [
    "! pip install findspark"
   ]
  },
  {
   "cell_type": "code",
   "execution_count": 2,
   "id": "6db113a4-2ca7-4551-8dbf-93fdce687dbf",
   "metadata": {},
   "outputs": [
    {
     "name": "stdout",
     "output_type": "stream",
     "text": [
      ":: loading settings :: url = jar:file:/opt/spark/jars/ivy-2.5.1.jar!/org/apache/ivy/core/settings/ivysettings.xml\n"
     ]
    },
    {
     "name": "stderr",
     "output_type": "stream",
     "text": [
      "Ivy Default Cache set to: /root/.ivy2/cache\n",
      "The jars for the packages stored in: /root/.ivy2/jars\n",
      "org.apache.hadoop#hadoop-aws added as a dependency\n",
      "io.delta#delta-core_2.12 added as a dependency\n",
      "io.delta#delta-storage added as a dependency\n",
      ":: resolving dependencies :: org.apache.spark#spark-submit-parent-03f56ed0-34c7-466c-9293-f8734dafa7a7;1.0\n",
      "\tconfs: [default]\n",
      "\tfound org.apache.hadoop#hadoop-aws;3.2.0 in central\n",
      "\tfound com.amazonaws#aws-java-sdk-bundle;1.11.375 in central\n",
      "\tfound io.delta#delta-core_2.12;2.4.0 in central\n",
      "\tfound io.delta#delta-storage;2.4.0 in central\n",
      "\tfound org.antlr#antlr4-runtime;4.9.3 in central\n",
      ":: resolution report :: resolve 2363ms :: artifacts dl 16ms\n",
      "\t:: modules in use:\n",
      "\tcom.amazonaws#aws-java-sdk-bundle;1.11.375 from central in [default]\n",
      "\tio.delta#delta-core_2.12;2.4.0 from central in [default]\n",
      "\tio.delta#delta-storage;2.4.0 from central in [default]\n",
      "\torg.antlr#antlr4-runtime;4.9.3 from central in [default]\n",
      "\torg.apache.hadoop#hadoop-aws;3.2.0 from central in [default]\n",
      "\t---------------------------------------------------------------------\n",
      "\t|                  |            modules            ||   artifacts   |\n",
      "\t|       conf       | number| search|dwnlded|evicted|| number|dwnlded|\n",
      "\t---------------------------------------------------------------------\n",
      "\t|      default     |   5   |   0   |   0   |   0   ||   5   |   0   |\n",
      "\t---------------------------------------------------------------------\n",
      ":: retrieving :: org.apache.spark#spark-submit-parent-03f56ed0-34c7-466c-9293-f8734dafa7a7\n",
      "\tconfs: [default]\n",
      "\t0 artifacts copied, 5 already retrieved (0kB/45ms)\n",
      "24/03/23 02:04:56 WARN NativeCodeLoader: Unable to load native-hadoop library for your platform... using builtin-java classes where applicable\n",
      "Setting default log level to \"WARN\".\n",
      "To adjust logging level use sc.setLogLevel(newLevel). For SparkR, use setLogLevel(newLevel).\n"
     ]
    }
   ],
   "source": [
    "spark = SparkSession.builder \\\n",
    ".appName(\"final project\") \\\n",
    ".master(\"local[2]\") \\\n",
    ".config(\"spark.jars.packages\", \"org.apache.hadoop:hadoop-aws:3.2.0,io.delta:delta-core_2.12:2.4.0,io.delta:delta-storage:2.4.0\") \\\n",
    ".config(\"spark.hadoop.fs.s3a.access.key\", \"root\") \\\n",
    ".config(\"spark.hadoop.fs.s3a.secret.key\", \"root12345\") \\\n",
    ".config(\"spark.hadoop.fs.s3a.path.style.access\", True) \\\n",
    ".config(\"spark.hadoop.fs.s3a.impl\", \"org.apache.hadoop.fs.s3a.S3AFileSystem\") \\\n",
    ".config(\"spark.hadoop.fs.s3a.endpoint\", \"http://minio:9000\") \\\n",
    ".config(\"spark.sql.extensions\", \"io.delta.sql.DeltaSparkSessionExtension\") \\\n",
    ".config(\"spark.sql.catalog.spark_catalog\", \"org.apache.spark.sql.delta.catalog.DeltaCatalog\") \\\n",
    ".getOrCreate() "
   ]
  },
  {
   "cell_type": "markdown",
   "id": "34c956a2-8433-4da0-b671-ef94956c10b4",
   "metadata": {},
   "source": [
    "# READ CREDITS"
   ]
  },
  {
   "cell_type": "code",
   "execution_count": 3,
   "id": "af5476f6-3822-478a-a0c1-5ca89b427970",
   "metadata": {},
   "outputs": [
    {
     "name": "stderr",
     "output_type": "stream",
     "text": [
      "24/03/23 02:05:56 WARN MetricsConfig: Cannot locate configuration: tried hadoop-metrics2-s3a-file-system.properties,hadoop-metrics2.properties\n",
      "                                                                                \r"
     ]
    }
   ],
   "source": [
    "credits_df = spark.read.parquet('s3a://tmdb-bronze/credits')"
   ]
  },
  {
   "cell_type": "code",
   "execution_count": 4,
   "id": "6d0fbd23-ffea-43b3-8eee-52e4d207f114",
   "metadata": {},
   "outputs": [
    {
     "name": "stderr",
     "output_type": "stream",
     "text": [
      "                                                                                \r"
     ]
    },
    {
     "name": "stdout",
     "output_type": "stream",
     "text": [
      "+--------+--------------------+--------------------+--------------------+--------------------+\n",
      "|movie_id|               title|                cast|                crew|          event_time|\n",
      "+--------+--------------------+--------------------+--------------------+--------------------+\n",
      "|   19995|              Avatar|[{\"cast_id\": 242,...|[{\"credit_id\": \"5...|2024-03-22 23:14:...|\n",
      "|     285|Pirates of the Ca...|[{\"cast_id\": 4, \"...|[{\"credit_id\": \"5...|2024-03-22 23:14:...|\n",
      "|  206647|             Spectre|[{\"cast_id\": 1, \"...|[{\"credit_id\": \"5...|2024-03-22 23:14:...|\n",
      "|   49026|The Dark Knight R...|[{\"cast_id\": 2, \"...|[{\"credit_id\": \"5...|2024-03-22 23:14:...|\n",
      "|   49529|         John Carter|[{\"cast_id\": 5, \"...|[{\"credit_id\": \"5...|2024-03-22 23:14:...|\n",
      "|     559|        Spider-Man 3|[{\"cast_id\": 30, ...|[{\"credit_id\": \"5...|2024-03-22 23:14:...|\n",
      "|   38757|             Tangled|[{\"cast_id\": 34, ...|[{\"credit_id\": \"5...|2024-03-22 23:14:...|\n",
      "|   99861|Avengers: Age of ...|[{\"cast_id\": 76, ...|[{\"credit_id\": \"5...|2024-03-22 23:14:...|\n",
      "|     767|Harry Potter and ...|[{\"cast_id\": 3, \"...|[{\"credit_id\": \"5...|2024-03-22 23:14:...|\n",
      "|  209112|Batman v Superman...|[{\"cast_id\": 18, ...|[{\"credit_id\": \"5...|2024-03-22 23:14:...|\n",
      "|    1452|    Superman Returns|[{\"cast_id\": 3, \"...|[{\"credit_id\": \"5...|2024-03-22 23:14:...|\n",
      "|   10764|   Quantum of Solace|[{\"cast_id\": 1, \"...|[{\"credit_id\": \"5...|2024-03-22 23:14:...|\n",
      "|      58|Pirates of the Ca...|[{\"cast_id\": 37, ...|[{\"credit_id\": \"5...|2024-03-22 23:14:...|\n",
      "|   57201|     The Lone Ranger|[{\"cast_id\": 4, \"...|[{\"credit_id\": \"5...|2024-03-22 23:14:...|\n",
      "|   49521|        Man of Steel|[{\"cast_id\": 2, \"...|[{\"credit_id\": \"5...|2024-03-22 23:14:...|\n",
      "|    2454|The Chronicles of...|[{\"cast_id\": 1, \"...|[{\"credit_id\": \"5...|2024-03-22 23:14:...|\n",
      "|   24428|        The Avengers|[{\"cast_id\": 46, ...|[{\"credit_id\": \"5...|2024-03-22 23:14:...|\n",
      "|    1865|Pirates of the Ca...|[{\"cast_id\": 15, ...|[{\"credit_id\": \"5...|2024-03-22 23:14:...|\n",
      "|   41154|      Men in Black 3|[{\"cast_id\": 4, \"...|[{\"credit_id\": \"5...|2024-03-22 23:14:...|\n",
      "|  122917|The Hobbit: The B...|[{\"cast_id\": 10, ...|[{\"credit_id\": \"5...|2024-03-22 23:14:...|\n",
      "+--------+--------------------+--------------------+--------------------+--------------------+\n",
      "only showing top 20 rows\n",
      "\n"
     ]
    }
   ],
   "source": [
    "credits_df.show()"
   ]
  },
  {
   "cell_type": "code",
   "execution_count": 5,
   "id": "bd411c82-bf16-49ab-8e63-8bdc7439980d",
   "metadata": {},
   "outputs": [
    {
     "name": "stdout",
     "output_type": "stream",
     "text": [
      "root\n",
      " |-- movie_id: long (nullable = true)\n",
      " |-- title: string (nullable = true)\n",
      " |-- cast: string (nullable = true)\n",
      " |-- crew: string (nullable = true)\n",
      " |-- event_time: timestamp_ntz (nullable = true)\n",
      "\n"
     ]
    }
   ],
   "source": [
    "credits_df.printSchema()"
   ]
  },
  {
   "cell_type": "markdown",
   "id": "31ef9347-dd5d-4b18-8b39-19ff2a6b04d0",
   "metadata": {},
   "source": [
    "### CAST & CREDITS"
   ]
  },
  {
   "cell_type": "code",
   "execution_count": 6,
   "id": "c38d1c21-862b-4ccd-b5ea-4310b4709a77",
   "metadata": {},
   "outputs": [],
   "source": [
    "cast_schema = StructType([\n",
    "            StructField(\"cast_id\", IntegerType()),\n",
    "            StructField(\"character\", StringType()),\n",
    "            StructField(\"credit_id\", StringType()),\n",
    "            StructField(\"gender\", IntegerType()),\n",
    "            StructField(\"id\", IntegerType()),\n",
    "            StructField(\"name\", StringType()),\n",
    "            StructField(\"order\", IntegerType())\n",
    "                  ])"
   ]
  },
  {
   "cell_type": "code",
   "execution_count": 7,
   "id": "f88e8680-ce56-41f9-8d3c-2b703ee2670c",
   "metadata": {},
   "outputs": [],
   "source": [
    "crew_schema = StructType([\n",
    "            StructField(\"credit_id\", StringType()),\n",
    "            StructField(\"department\", StringType()),\n",
    "            StructField(\"gender\", IntegerType()),\n",
    "            StructField(\"id\", IntegerType()),\n",
    "            StructField(\"job\", StringType()),\n",
    "            StructField(\"name\", StringType())\n",
    "])"
   ]
  },
  {
   "cell_type": "code",
   "execution_count": 8,
   "id": "b3dcc1aa-fd2f-4ab2-a904-db1654bcec6b",
   "metadata": {},
   "outputs": [],
   "source": [
    "credits_sch = credits_df.withColumn(\"cast\", F.from_json(F.col(\"cast\"), ArrayType( cast_schema ))) \\\n",
    "                        .withColumn(\"crew\", F.from_json(F.col(\"crew\"), ArrayType( crew_schema )))"
   ]
  },
  {
   "cell_type": "code",
   "execution_count": 9,
   "id": "c9c0cd29-0373-47f8-ae86-60a39f94dc55",
   "metadata": {},
   "outputs": [
    {
     "name": "stderr",
     "output_type": "stream",
     "text": [
      "                                                                                \r"
     ]
    },
    {
     "name": "stdout",
     "output_type": "stream",
     "text": [
      "+--------+--------------------+--------------------+--------------------+--------------------+\n",
      "|movie_id|               title|                cast|                crew|          event_time|\n",
      "+--------+--------------------+--------------------+--------------------+--------------------+\n",
      "|   19995|              Avatar|[{242, Jake Sully...|[{52fe48009251416...|2024-03-22 23:14:...|\n",
      "|     285|Pirates of the Ca...|[{4, Captain Jack...|[{52fe4232c3a3684...|2024-03-22 23:14:...|\n",
      "|  206647|             Spectre|[{1, James Bond, ...|[{54805967c3a3682...|2024-03-22 23:14:...|\n",
      "|   49026|The Dark Knight R...|[{2, Bruce Wayne ...|[{52fe4781c3a3684...|2024-03-22 23:14:...|\n",
      "|   49529|         John Carter|[{5, John Carter,...|[{52fe479ac3a3684...|2024-03-22 23:14:...|\n",
      "+--------+--------------------+--------------------+--------------------+--------------------+\n",
      "only showing top 5 rows\n",
      "\n"
     ]
    }
   ],
   "source": [
    "credits_sch.show(5)"
   ]
  },
  {
   "cell_type": "code",
   "execution_count": 10,
   "id": "6b60fdc3-e772-4f25-a130-ad7604e35783",
   "metadata": {},
   "outputs": [
    {
     "name": "stdout",
     "output_type": "stream",
     "text": [
      "root\n",
      " |-- movie_id: long (nullable = true)\n",
      " |-- title: string (nullable = true)\n",
      " |-- cast: array (nullable = true)\n",
      " |    |-- element: struct (containsNull = true)\n",
      " |    |    |-- cast_id: integer (nullable = true)\n",
      " |    |    |-- character: string (nullable = true)\n",
      " |    |    |-- credit_id: string (nullable = true)\n",
      " |    |    |-- gender: integer (nullable = true)\n",
      " |    |    |-- id: integer (nullable = true)\n",
      " |    |    |-- name: string (nullable = true)\n",
      " |    |    |-- order: integer (nullable = true)\n",
      " |-- crew: array (nullable = true)\n",
      " |    |-- element: struct (containsNull = true)\n",
      " |    |    |-- credit_id: string (nullable = true)\n",
      " |    |    |-- department: string (nullable = true)\n",
      " |    |    |-- gender: integer (nullable = true)\n",
      " |    |    |-- id: integer (nullable = true)\n",
      " |    |    |-- job: string (nullable = true)\n",
      " |    |    |-- name: string (nullable = true)\n",
      " |-- event_time: timestamp_ntz (nullable = true)\n",
      "\n"
     ]
    }
   ],
   "source": [
    "credits_sch.printSchema()"
   ]
  },
  {
   "cell_type": "code",
   "execution_count": 11,
   "id": "1e897f6f-0a86-4e84-a1fa-e337e0196a0e",
   "metadata": {},
   "outputs": [],
   "source": [
    "cast_exp = credits_sch.select(\"movie_id\", \"title\", F.explode_outer(\"cast\").alias(\"cast\"))"
   ]
  },
  {
   "cell_type": "code",
   "execution_count": 12,
   "id": "2752678b-19d7-4c2a-8fee-2aaf8ba8b633",
   "metadata": {},
   "outputs": [
    {
     "name": "stderr",
     "output_type": "stream",
     "text": [
      "[Stage 3:>                                                          (0 + 1) / 1]\r"
     ]
    },
    {
     "name": "stdout",
     "output_type": "stream",
     "text": [
      "+--------+------+--------------------+\n",
      "|movie_id| title|                cast|\n",
      "+--------+------+--------------------+\n",
      "|   19995|Avatar|{242, Jake Sully,...|\n",
      "|   19995|Avatar|{3, Neytiri, 52fe...|\n",
      "|   19995|Avatar|{25, Dr. Grace Au...|\n",
      "|   19995|Avatar|{4, Col. Quaritch...|\n",
      "|   19995|Avatar|{5, Trudy Chacon,...|\n",
      "+--------+------+--------------------+\n",
      "only showing top 5 rows\n",
      "\n"
     ]
    },
    {
     "name": "stderr",
     "output_type": "stream",
     "text": [
      "                                                                                \r"
     ]
    }
   ],
   "source": [
    "cast_exp.show(5)"
   ]
  },
  {
   "cell_type": "code",
   "execution_count": 13,
   "id": "8c91ec76-3076-4e0e-abfe-fd742278371e",
   "metadata": {},
   "outputs": [],
   "source": [
    "cast_cols = ['cast_id', 'character', 'credit_id', 'gender', 'id', 'name']"
   ]
  },
  {
   "cell_type": "code",
   "execution_count": 15,
   "id": "e6af4f24-0f40-47ce-bd4a-5595610b0f2a",
   "metadata": {},
   "outputs": [],
   "source": [
    "for col in cast_cols:\n",
    "    cast_exp = cast_exp.withColumn(col, F.col(\"cast\").getItem(col))\n",
    "cast_df = cast_exp.na.fill(\"0000000000\",[\"credit_id\"])    "
   ]
  },
  {
   "cell_type": "code",
   "execution_count": 16,
   "id": "6a52f2b7-a09a-4fff-9a37-e1dffec44ca9",
   "metadata": {},
   "outputs": [],
   "source": [
    "credits_cast = cast_df.drop('cast')"
   ]
  },
  {
   "cell_type": "code",
   "execution_count": 17,
   "id": "28e2214d-8930-4075-9523-11cb2b617e84",
   "metadata": {},
   "outputs": [
    {
     "name": "stderr",
     "output_type": "stream",
     "text": [
      "[Stage 9:>                                                          (0 + 1) / 1]\r"
     ]
    },
    {
     "name": "stdout",
     "output_type": "stream",
     "text": [
      "+--------+------+-------+-------------------+------------------------+------+-----+----------------+\n",
      "|movie_id|title |cast_id|character          |credit_id               |gender|id   |name            |\n",
      "+--------+------+-------+-------------------+------------------------+------+-----+----------------+\n",
      "|19995   |Avatar|242    |Jake Sully         |5602a8a7c3a3685532001c9a|2     |65731|Sam Worthington |\n",
      "|19995   |Avatar|3      |Neytiri            |52fe48009251416c750ac9cb|1     |8691 |Zoe Saldana     |\n",
      "|19995   |Avatar|25     |Dr. Grace Augustine|52fe48009251416c750aca39|1     |10205|Sigourney Weaver|\n",
      "|19995   |Avatar|4      |Col. Quaritch      |52fe48009251416c750ac9cf|2     |32747|Stephen Lang    |\n",
      "+--------+------+-------+-------------------+------------------------+------+-----+----------------+\n",
      "only showing top 4 rows\n",
      "\n"
     ]
    },
    {
     "name": "stderr",
     "output_type": "stream",
     "text": [
      "                                                                                \r"
     ]
    }
   ],
   "source": [
    "credits_cast.show(4, truncate=False)"
   ]
  },
  {
   "cell_type": "code",
   "execution_count": 18,
   "id": "a8ef3abb-bb4e-4baa-8680-79d10e79ebfc",
   "metadata": {},
   "outputs": [
    {
     "name": "stderr",
     "output_type": "stream",
     "text": [
      "                                                                                \r"
     ]
    },
    {
     "data": {
      "text/plain": [
       "4803"
      ]
     },
     "execution_count": 18,
     "metadata": {},
     "output_type": "execute_result"
    }
   ],
   "source": [
    "credits_cast.select(\"movie_id\").distinct().count()"
   ]
  },
  {
   "cell_type": "code",
   "execution_count": 19,
   "id": "f413df90-485f-499e-bf00-e47af634fa74",
   "metadata": {},
   "outputs": [
    {
     "name": "stdout",
     "output_type": "stream",
     "text": [
      "root\n",
      " |-- movie_id: long (nullable = true)\n",
      " |-- title: string (nullable = true)\n",
      " |-- cast_id: integer (nullable = true)\n",
      " |-- character: string (nullable = true)\n",
      " |-- credit_id: string (nullable = false)\n",
      " |-- gender: integer (nullable = true)\n",
      " |-- id: integer (nullable = true)\n",
      " |-- name: string (nullable = true)\n",
      "\n"
     ]
    }
   ],
   "source": [
    "credits_cast.printSchema()"
   ]
  },
  {
   "cell_type": "code",
   "execution_count": 20,
   "id": "d6e78cca-d377-4dab-bb9b-cfbf72cf44b6",
   "metadata": {},
   "outputs": [],
   "source": [
    "cast = credits_cast"
   ]
  },
  {
   "cell_type": "code",
   "execution_count": 21,
   "id": "6b1f4d7d-d2c3-4f92-8a15-bf06422f7882",
   "metadata": {},
   "outputs": [],
   "source": [
    "crew_exp = credits_sch.select(\"movie_id\", \"title\", F.explode_outer(\"crew\").alias(\"crew\"))"
   ]
  },
  {
   "cell_type": "code",
   "execution_count": 22,
   "id": "eda3b90b-402d-4922-be5d-f0a101f7306b",
   "metadata": {},
   "outputs": [],
   "source": [
    "crew_cols = ['credit_id', 'department', 'gender', 'id', 'job', 'name']"
   ]
  },
  {
   "cell_type": "code",
   "execution_count": 23,
   "id": "9cdfdfe8-b4c9-462b-a17d-b5d0e047a448",
   "metadata": {},
   "outputs": [],
   "source": [
    "for col in crew_cols:\n",
    "    crew_exp = crew_exp.withColumn(col, F.col(\"crew\").getItem(col))\n",
    "crew_df = crew_exp.na.fill(\"0000000000\",[\"credit_id\"])    "
   ]
  },
  {
   "cell_type": "code",
   "execution_count": 24,
   "id": "be4bd072-89a7-4624-b3b5-83d9ac1271a6",
   "metadata": {},
   "outputs": [],
   "source": [
    "credits_crew = crew_df.drop(\"crew\")"
   ]
  },
  {
   "cell_type": "code",
   "execution_count": 25,
   "id": "b0d8a765-fbe9-45c1-be0a-4da4f6cd3830",
   "metadata": {},
   "outputs": [
    {
     "name": "stderr",
     "output_type": "stream",
     "text": [
      "[Stage 16:>                                                         (0 + 1) / 1]\r"
     ]
    },
    {
     "name": "stdout",
     "output_type": "stream",
     "text": [
      "+--------+------+------------------------+----------+------+----+------------------------+-----------------+\n",
      "|movie_id|title |credit_id               |department|gender|id  |job                     |name             |\n",
      "+--------+------+------------------------+----------+------+----+------------------------+-----------------+\n",
      "|19995   |Avatar|52fe48009251416c750aca23|Editing   |0     |1721|Editor                  |Stephen E. Rivkin|\n",
      "|19995   |Avatar|539c47ecc3a36810e3001f87|Art       |2     |496 |Production Design       |Rick Carter      |\n",
      "|19995   |Avatar|54491c89c3a3680fb4001cf7|Sound     |0     |900 |Sound Designer          |Christopher Boyes|\n",
      "|19995   |Avatar|54491cb70e0a267480001bd0|Sound     |0     |900 |Supervising Sound Editor|Christopher Boyes|\n",
      "+--------+------+------------------------+----------+------+----+------------------------+-----------------+\n",
      "only showing top 4 rows\n",
      "\n"
     ]
    },
    {
     "name": "stderr",
     "output_type": "stream",
     "text": [
      "                                                                                \r"
     ]
    }
   ],
   "source": [
    "credits_crew.show(4, truncate=False)"
   ]
  },
  {
   "cell_type": "code",
   "execution_count": 26,
   "id": "96589118-04ce-4d00-970f-99285f6afae3",
   "metadata": {},
   "outputs": [
    {
     "name": "stderr",
     "output_type": "stream",
     "text": [
      "                                                                                \r"
     ]
    },
    {
     "data": {
      "text/plain": [
       "4803"
      ]
     },
     "execution_count": 26,
     "metadata": {},
     "output_type": "execute_result"
    }
   ],
   "source": [
    "credits_crew.select('movie_id').distinct().count()"
   ]
  },
  {
   "cell_type": "code",
   "execution_count": 27,
   "id": "b4817b21-2703-43d3-8c43-28ce5ad1607a",
   "metadata": {},
   "outputs": [
    {
     "name": "stdout",
     "output_type": "stream",
     "text": [
      "root\n",
      " |-- movie_id: long (nullable = true)\n",
      " |-- title: string (nullable = true)\n",
      " |-- credit_id: string (nullable = false)\n",
      " |-- department: string (nullable = true)\n",
      " |-- gender: integer (nullable = true)\n",
      " |-- id: integer (nullable = true)\n",
      " |-- job: string (nullable = true)\n",
      " |-- name: string (nullable = true)\n",
      "\n"
     ]
    }
   ],
   "source": [
    "credits_crew.printSchema()"
   ]
  },
  {
   "cell_type": "code",
   "execution_count": 28,
   "id": "93f2b547-7740-49ce-a86e-c4da0126f3e0",
   "metadata": {},
   "outputs": [],
   "source": [
    "crew = credits_crew"
   ]
  },
  {
   "cell_type": "markdown",
   "id": "aa9d94d1-77f3-4a57-80f6-2e3859a758ab",
   "metadata": {},
   "source": [
    "# READ MOVİES"
   ]
  },
  {
   "cell_type": "code",
   "execution_count": 29,
   "id": "e0d5341a-7cbf-4e2d-8291-c9b0eb297a8f",
   "metadata": {},
   "outputs": [
    {
     "name": "stderr",
     "output_type": "stream",
     "text": [
      "                                                                                \r"
     ]
    }
   ],
   "source": [
    "df_movies = spark.read.parquet('s3a://tmdb-bronze/movies')"
   ]
  },
  {
   "cell_type": "code",
   "execution_count": 30,
   "id": "5d6f911b-a27d-4338-be60-58a8f8d2800e",
   "metadata": {},
   "outputs": [
    {
     "name": "stdout",
     "output_type": "stream",
     "text": [
      "root\n",
      " |-- budget: long (nullable = true)\n",
      " |-- genres: string (nullable = true)\n",
      " |-- homepage: string (nullable = true)\n",
      " |-- id: long (nullable = true)\n",
      " |-- keywords: string (nullable = true)\n",
      " |-- original_language: string (nullable = true)\n",
      " |-- original_title: string (nullable = true)\n",
      " |-- overview: string (nullable = true)\n",
      " |-- popularity: double (nullable = true)\n",
      " |-- production_companies: string (nullable = true)\n",
      " |-- production_countries: string (nullable = true)\n",
      " |-- release_date: string (nullable = true)\n",
      " |-- revenue: long (nullable = true)\n",
      " |-- runtime: double (nullable = true)\n",
      " |-- spoken_languages: string (nullable = true)\n",
      " |-- status: string (nullable = true)\n",
      " |-- tagline: string (nullable = true)\n",
      " |-- title: string (nullable = true)\n",
      " |-- vote_average: double (nullable = true)\n",
      " |-- vote_count: long (nullable = true)\n",
      " |-- event_time: timestamp_ntz (nullable = true)\n",
      "\n"
     ]
    }
   ],
   "source": [
    "df_movies.printSchema()"
   ]
  },
  {
   "cell_type": "markdown",
   "id": "9f55b6de-a8d4-4b75-8ab7-fb461fc583f6",
   "metadata": {},
   "source": [
    "### MOVIES"
   ]
  },
  {
   "cell_type": "code",
   "execution_count": 31,
   "id": "9cf8db36-ca72-49fc-8a9c-029a28daef28",
   "metadata": {},
   "outputs": [],
   "source": [
    "select_movies = df_movies.withColumnRenamed(\"id\",\"movie_id\").select(\"movie_id\",\"title\",\"budget\",\"homepage\",\"original_language\",\"original_title\",\"overview\",\"popularity\",\"release_date\",\"revenue\",\"runtime\",\"status\",\"tagline\",\"vote_average\",\"vote_count\")"
   ]
  },
  {
   "cell_type": "code",
   "execution_count": 32,
   "id": "325113ae-53c8-495f-abf9-a197bd09cb6e",
   "metadata": {},
   "outputs": [
    {
     "name": "stdout",
     "output_type": "stream",
     "text": [
      "root\n",
      " |-- movie_id: long (nullable = true)\n",
      " |-- title: string (nullable = true)\n",
      " |-- budget: long (nullable = true)\n",
      " |-- homepage: string (nullable = true)\n",
      " |-- original_language: string (nullable = true)\n",
      " |-- original_title: string (nullable = true)\n",
      " |-- overview: string (nullable = true)\n",
      " |-- popularity: double (nullable = true)\n",
      " |-- release_date: string (nullable = true)\n",
      " |-- revenue: long (nullable = true)\n",
      " |-- runtime: double (nullable = true)\n",
      " |-- status: string (nullable = true)\n",
      " |-- tagline: string (nullable = true)\n",
      " |-- vote_average: double (nullable = true)\n",
      " |-- vote_count: long (nullable = true)\n",
      "\n"
     ]
    }
   ],
   "source": [
    "select_movies.printSchema()"
   ]
  },
  {
   "cell_type": "code",
   "execution_count": 33,
   "id": "a014cfee-ce6d-449c-bf0e-a3924e0c0b0a",
   "metadata": {},
   "outputs": [],
   "source": [
    "movies_df = select_movies.withColumn(\"movie_id\", F.col(\"movie_id\").cast(StringType())) \\\n",
    ".withColumn(\"budget\", F.col(\"budget\").cast(DoubleType())) \\\n",
    ".withColumn(\"popularity\", F.col(\"popularity\").cast(FloatType())) \\\n",
    ".withColumn(\"release_date\", F.to_date(\"release_date\", \"yyyy-MM-dd\")) \\\n",
    ".withColumn(\"revenue\", F.col(\"revenue\").cast(DoubleType())) \\\n",
    ".withColumn(\"runtime\", F.col(\"runtime\").cast(IntegerType())) \\\n",
    ".withColumn(\"vote_average\", F.col(\"vote_average\").cast(FloatType())) \\\n",
    ".withColumn(\"vote_count\", F.col(\"vote_count\").cast(IntegerType()))"
   ]
  },
  {
   "cell_type": "code",
   "execution_count": 34,
   "id": "24344937-b578-4dd1-a7fd-0b7082576c55",
   "metadata": {},
   "outputs": [
    {
     "name": "stderr",
     "output_type": "stream",
     "text": [
      "[Stage 24:>                                                         (0 + 1) / 1]\r"
     ]
    },
    {
     "name": "stdout",
     "output_type": "stream",
     "text": [
      "+--------+--------------------+------+--------------------+-----------------+--------------------+--------------------+----------+------------+-------------+-------+--------+--------------------+------------+----------+\n",
      "|movie_id|               title|budget|            homepage|original_language|      original_title|            overview|popularity|release_date|      revenue|runtime|  status|             tagline|vote_average|vote_count|\n",
      "+--------+--------------------+------+--------------------+-----------------+--------------------+--------------------+----------+------------+-------------+-------+--------+--------------------+------------+----------+\n",
      "|   19995|              Avatar|2.37E8|http://www.avatar...|               en|              Avatar|In the 22nd centu...| 150.43758|  2009-12-10|2.787965087E9|    162|Released|Enter the World o...|         7.2|     11800|\n",
      "|     285|Pirates of the Ca...| 3.0E8|http://disney.go....|               en|Pirates of the Ca...|Captain Barbossa,...| 139.08261|  2007-05-19|       9.61E8|    169|Released|At the end of the...|         6.9|      4500|\n",
      "|  206647|             Spectre|2.45E8|http://www.sonypi...|               en|             Spectre|A cryptic message...|107.376785|  2015-10-26| 8.80674609E8|    148|Released|A Plan No One Esc...|         6.3|      4466|\n",
      "|   49026|The Dark Knight R...| 2.5E8|http://www.thedar...|               en|The Dark Knight R...|Following the dea...| 112.31295|  2012-07-16|1.084939099E9|    165|Released|     The Legend Ends|         7.6|      9106|\n",
      "|   49529|         John Carter| 2.6E8|http://movies.dis...|               en|         John Carter|John Carter is a ...| 43.926994|  2012-03-07|   2.841391E8|    132|Released|Lost in our world...|         6.1|      2124|\n",
      "|     559|        Spider-Man 3|2.58E8|http://www.sonypi...|               en|        Spider-Man 3|The seemingly inv...|115.699814|  2007-05-01| 8.90871626E8|    139|Released|  The battle within.|         5.9|      3576|\n",
      "|   38757|             Tangled| 2.6E8|http://disney.go....|               en|             Tangled|When the kingdom'...|  48.68197|  2010-11-24| 5.91794936E8|    100|Released|They're taking ad...|         7.4|      3330|\n",
      "|   99861|Avengers: Age of ...| 2.8E8|http://marvel.com...|               en|Avengers: Age of ...|When Tony Stark t...| 134.27924|  2015-04-22|1.405403694E9|    141|Released| A New Age Has Come.|         7.3|      6767|\n",
      "|     767|Harry Potter and ...| 2.5E8|http://harrypotte...|               en|Harry Potter and ...|As Harry begins h...| 98.885635|  2009-07-07| 9.33959197E8|    153|Released|Dark Secrets Reve...|         7.4|      5293|\n",
      "|  209112|Batman v Superman...| 2.5E8|http://www.batman...|               en|Batman v Superman...|Fearing the actio...| 155.79045|  2016-03-23| 8.73260194E8|    151|Released|  Justice or revenge|         5.7|      7004|\n",
      "|    1452|    Superman Returns| 2.7E8|http://www.superm...|               en|    Superman Returns|Superman returns ...| 57.925625|  2006-06-28| 3.91081192E8|    154|Released|                null|         5.4|      1400|\n",
      "|   10764|   Quantum of Solace| 2.0E8|http://www.mgm.co...|               en|   Quantum of Solace|Quantum of Solace...| 107.92881|  2008-10-30| 5.86090727E8|    106|Released|For love, for hat...|         6.1|      2965|\n",
      "|      58|Pirates of the Ca...| 2.0E8|http://disney.go....|               en|Pirates of the Ca...|Captain Jack Spar...| 145.84738|  2006-06-20|1.065659812E9|    151|Released|       Jack is back!|         7.0|      5246|\n",
      "|   57201|     The Lone Ranger|2.55E8|http://disney.go....|               en|     The Lone Ranger|The Texas Rangers...| 49.046955|  2013-07-03|   8.928991E7|    149|Released|Never Take Off th...|         5.9|      2311|\n",
      "|   49521|        Man of Steel|2.25E8|http://www.manofs...|               en|        Man of Steel|A young boy learn...|  99.39801|  2013-06-12| 6.62845518E8|    143|Released|You will believe ...|         6.5|      6359|\n",
      "|    2454|The Chronicles of...|2.25E8|                null|               en|The Chronicles of...|One year after th...| 53.978603|  2008-05-15| 4.19651413E8|    150|Released|Hope has a new face.|         6.3|      1630|\n",
      "|   24428|        The Avengers| 2.2E8|http://marvel.com...|               en|        The Avengers|When an unexpecte...| 144.44864|  2012-04-25| 1.51955791E9|    143|Released|Some assembly req...|         7.4|     11776|\n",
      "|    1865|Pirates of the Ca...| 3.8E8|http://disney.go....|               en|Pirates of the Ca...|Captain Jack Spar...| 135.41385|  2011-05-14|1.045713802E9|    136|Released|Live Forever Or D...|         6.4|      4948|\n",
      "|   41154|      Men in Black 3|2.25E8|http://www.sonypi...|               en|      Men in Black 3|Agents J (Will Sm...|  52.03518|  2012-05-23| 6.24026776E8|    106|Released|They are back... ...|         6.2|      4160|\n",
      "|  122917|The Hobbit: The B...| 2.5E8|http://www.thehob...|               en|The Hobbit: The B...|Immediately after...|120.965744|  2014-12-10| 9.56019788E8|    144|Released|Witness the defin...|         7.1|      4760|\n",
      "+--------+--------------------+------+--------------------+-----------------+--------------------+--------------------+----------+------------+-------------+-------+--------+--------------------+------------+----------+\n",
      "only showing top 20 rows\n",
      "\n"
     ]
    },
    {
     "name": "stderr",
     "output_type": "stream",
     "text": [
      "                                                                                \r"
     ]
    }
   ],
   "source": [
    "movies_df.show()"
   ]
  },
  {
   "cell_type": "code",
   "execution_count": 35,
   "id": "96602094-f8db-43b6-bf82-4046a8e439b5",
   "metadata": {},
   "outputs": [
    {
     "name": "stdout",
     "output_type": "stream",
     "text": [
      "root\n",
      " |-- movie_id: string (nullable = true)\n",
      " |-- title: string (nullable = true)\n",
      " |-- budget: double (nullable = true)\n",
      " |-- homepage: string (nullable = true)\n",
      " |-- original_language: string (nullable = true)\n",
      " |-- original_title: string (nullable = true)\n",
      " |-- overview: string (nullable = true)\n",
      " |-- popularity: float (nullable = true)\n",
      " |-- release_date: date (nullable = true)\n",
      " |-- revenue: double (nullable = true)\n",
      " |-- runtime: integer (nullable = true)\n",
      " |-- status: string (nullable = true)\n",
      " |-- tagline: string (nullable = true)\n",
      " |-- vote_average: float (nullable = true)\n",
      " |-- vote_count: integer (nullable = true)\n",
      "\n"
     ]
    }
   ],
   "source": [
    "movies_df.printSchema()"
   ]
  },
  {
   "cell_type": "code",
   "execution_count": 36,
   "id": "43a4005e-9fd1-4f74-855b-7a97dcea9dc3",
   "metadata": {},
   "outputs": [],
   "source": [
    "movies = movies_df"
   ]
  },
  {
   "cell_type": "code",
   "execution_count": 37,
   "id": "0240ed4e-a549-4eee-be27-5788fef12cd9",
   "metadata": {},
   "outputs": [
    {
     "name": "stderr",
     "output_type": "stream",
     "text": [
      "                                                                                \r"
     ]
    },
    {
     "data": {
      "text/html": [
       "<div>\n",
       "<style scoped>\n",
       "    .dataframe tbody tr th:only-of-type {\n",
       "        vertical-align: middle;\n",
       "    }\n",
       "\n",
       "    .dataframe tbody tr th {\n",
       "        vertical-align: top;\n",
       "    }\n",
       "\n",
       "    .dataframe thead th {\n",
       "        text-align: right;\n",
       "    }\n",
       "</style>\n",
       "<table border=\"1\" class=\"dataframe\">\n",
       "  <thead>\n",
       "    <tr style=\"text-align: right;\">\n",
       "      <th></th>\n",
       "      <th>movie_id</th>\n",
       "      <th>genres</th>\n",
       "      <th>keywords</th>\n",
       "      <th>production_companies</th>\n",
       "      <th>production_countries</th>\n",
       "      <th>spoken_languages</th>\n",
       "    </tr>\n",
       "  </thead>\n",
       "  <tbody>\n",
       "    <tr>\n",
       "      <th>0</th>\n",
       "      <td>19995</td>\n",
       "      <td>[{\"id\": 28, \"name\": \"Action\"}, {\"id\": 12, \"nam...</td>\n",
       "      <td>[{\"id\": 1463, \"name\": \"culture clash\"}, {\"id\":...</td>\n",
       "      <td>[{\"name\": \"Ingenious Film Partners\", \"id\": 289...</td>\n",
       "      <td>[{\"iso_3166_1\": \"US\", \"name\": \"United States o...</td>\n",
       "      <td>[{\"iso_639_1\": \"en\", \"name\": \"English\"}, {\"iso...</td>\n",
       "    </tr>\n",
       "    <tr>\n",
       "      <th>1</th>\n",
       "      <td>285</td>\n",
       "      <td>[{\"id\": 12, \"name\": \"Adventure\"}, {\"id\": 14, \"...</td>\n",
       "      <td>[{\"id\": 270, \"name\": \"ocean\"}, {\"id\": 726, \"na...</td>\n",
       "      <td>[{\"name\": \"Walt Disney Pictures\", \"id\": 2}, {\"...</td>\n",
       "      <td>[{\"iso_3166_1\": \"US\", \"name\": \"United States o...</td>\n",
       "      <td>[{\"iso_639_1\": \"en\", \"name\": \"English\"}]</td>\n",
       "    </tr>\n",
       "    <tr>\n",
       "      <th>2</th>\n",
       "      <td>206647</td>\n",
       "      <td>[{\"id\": 28, \"name\": \"Action\"}, {\"id\": 12, \"nam...</td>\n",
       "      <td>[{\"id\": 470, \"name\": \"spy\"}, {\"id\": 818, \"name...</td>\n",
       "      <td>[{\"name\": \"Columbia Pictures\", \"id\": 5}, {\"nam...</td>\n",
       "      <td>[{\"iso_3166_1\": \"GB\", \"name\": \"United Kingdom\"...</td>\n",
       "      <td>[{\"iso_639_1\": \"fr\", \"name\": \"Fran\\u00e7ais\"},...</td>\n",
       "    </tr>\n",
       "    <tr>\n",
       "      <th>3</th>\n",
       "      <td>49026</td>\n",
       "      <td>[{\"id\": 28, \"name\": \"Action\"}, {\"id\": 80, \"nam...</td>\n",
       "      <td>[{\"id\": 849, \"name\": \"dc comics\"}, {\"id\": 853,...</td>\n",
       "      <td>[{\"name\": \"Legendary Pictures\", \"id\": 923}, {\"...</td>\n",
       "      <td>[{\"iso_3166_1\": \"US\", \"name\": \"United States o...</td>\n",
       "      <td>[{\"iso_639_1\": \"en\", \"name\": \"English\"}]</td>\n",
       "    </tr>\n",
       "    <tr>\n",
       "      <th>4</th>\n",
       "      <td>49529</td>\n",
       "      <td>[{\"id\": 28, \"name\": \"Action\"}, {\"id\": 12, \"nam...</td>\n",
       "      <td>[{\"id\": 818, \"name\": \"based on novel\"}, {\"id\":...</td>\n",
       "      <td>[{\"name\": \"Walt Disney Pictures\", \"id\": 2}]</td>\n",
       "      <td>[{\"iso_3166_1\": \"US\", \"name\": \"United States o...</td>\n",
       "      <td>[{\"iso_639_1\": \"en\", \"name\": \"English\"}]</td>\n",
       "    </tr>\n",
       "  </tbody>\n",
       "</table>\n",
       "</div>"
      ],
      "text/plain": [
       "   movie_id                                             genres  \\\n",
       "0     19995  [{\"id\": 28, \"name\": \"Action\"}, {\"id\": 12, \"nam...   \n",
       "1       285  [{\"id\": 12, \"name\": \"Adventure\"}, {\"id\": 14, \"...   \n",
       "2    206647  [{\"id\": 28, \"name\": \"Action\"}, {\"id\": 12, \"nam...   \n",
       "3     49026  [{\"id\": 28, \"name\": \"Action\"}, {\"id\": 80, \"nam...   \n",
       "4     49529  [{\"id\": 28, \"name\": \"Action\"}, {\"id\": 12, \"nam...   \n",
       "\n",
       "                                            keywords  \\\n",
       "0  [{\"id\": 1463, \"name\": \"culture clash\"}, {\"id\":...   \n",
       "1  [{\"id\": 270, \"name\": \"ocean\"}, {\"id\": 726, \"na...   \n",
       "2  [{\"id\": 470, \"name\": \"spy\"}, {\"id\": 818, \"name...   \n",
       "3  [{\"id\": 849, \"name\": \"dc comics\"}, {\"id\": 853,...   \n",
       "4  [{\"id\": 818, \"name\": \"based on novel\"}, {\"id\":...   \n",
       "\n",
       "                                production_companies  \\\n",
       "0  [{\"name\": \"Ingenious Film Partners\", \"id\": 289...   \n",
       "1  [{\"name\": \"Walt Disney Pictures\", \"id\": 2}, {\"...   \n",
       "2  [{\"name\": \"Columbia Pictures\", \"id\": 5}, {\"nam...   \n",
       "3  [{\"name\": \"Legendary Pictures\", \"id\": 923}, {\"...   \n",
       "4        [{\"name\": \"Walt Disney Pictures\", \"id\": 2}]   \n",
       "\n",
       "                                production_countries  \\\n",
       "0  [{\"iso_3166_1\": \"US\", \"name\": \"United States o...   \n",
       "1  [{\"iso_3166_1\": \"US\", \"name\": \"United States o...   \n",
       "2  [{\"iso_3166_1\": \"GB\", \"name\": \"United Kingdom\"...   \n",
       "3  [{\"iso_3166_1\": \"US\", \"name\": \"United States o...   \n",
       "4  [{\"iso_3166_1\": \"US\", \"name\": \"United States o...   \n",
       "\n",
       "                                    spoken_languages  \n",
       "0  [{\"iso_639_1\": \"en\", \"name\": \"English\"}, {\"iso...  \n",
       "1           [{\"iso_639_1\": \"en\", \"name\": \"English\"}]  \n",
       "2  [{\"iso_639_1\": \"fr\", \"name\": \"Fran\\u00e7ais\"},...  \n",
       "3           [{\"iso_639_1\": \"en\", \"name\": \"English\"}]  \n",
       "4           [{\"iso_639_1\": \"en\", \"name\": \"English\"}]  "
      ]
     },
     "execution_count": 37,
     "metadata": {},
     "output_type": "execute_result"
    }
   ],
   "source": [
    "movies_tables = df_movies.withColumnRenamed(\"id\",\"movie_id\").select(\"movie_id\",\"genres\",\"keywords\",\"production_companies\",\"production_countries\",\"spoken_languages\")\n",
    "movies_tables.limit(5).toPandas()"
   ]
  },
  {
   "cell_type": "code",
   "execution_count": 38,
   "id": "9d177db7-01f0-4b61-bd2f-67c12b4246de",
   "metadata": {},
   "outputs": [],
   "source": [
    "schema = (ArrayType( StructType([\n",
    "            StructField(\"id\", IntegerType()),\n",
    "            StructField(\"name\", StringType())])))"
   ]
  },
  {
   "cell_type": "markdown",
   "id": "2cd3f861-fab1-4830-980b-5ff278ba83e8",
   "metadata": {},
   "source": [
    "### GENRES"
   ]
  },
  {
   "cell_type": "code",
   "execution_count": 39,
   "id": "0f07e159-7a12-479f-8efd-5cfe8743a891",
   "metadata": {},
   "outputs": [],
   "source": [
    "genres_exp = movies_tables.withColumn('movie_id',F.col(\"movie_id\").cast(StringType())) \\\n",
    "                          .withColumn('genres',F.from_json(F.col('genres'),schema)) \\\n",
    "                          .select('movie_id',F.explode_outer('genres').alias('genres'))"
   ]
  },
  {
   "cell_type": "code",
   "execution_count": 40,
   "id": "0fc206a6-df94-44a3-bc1b-aa7d70a08479",
   "metadata": {},
   "outputs": [
    {
     "name": "stderr",
     "output_type": "stream",
     "text": [
      "                                                                                \r"
     ]
    },
    {
     "data": {
      "text/html": [
       "<div>\n",
       "<style scoped>\n",
       "    .dataframe tbody tr th:only-of-type {\n",
       "        vertical-align: middle;\n",
       "    }\n",
       "\n",
       "    .dataframe tbody tr th {\n",
       "        vertical-align: top;\n",
       "    }\n",
       "\n",
       "    .dataframe thead th {\n",
       "        text-align: right;\n",
       "    }\n",
       "</style>\n",
       "<table border=\"1\" class=\"dataframe\">\n",
       "  <thead>\n",
       "    <tr style=\"text-align: right;\">\n",
       "      <th></th>\n",
       "      <th>movie_id</th>\n",
       "      <th>genres</th>\n",
       "    </tr>\n",
       "  </thead>\n",
       "  <tbody>\n",
       "    <tr>\n",
       "      <th>0</th>\n",
       "      <td>19995</td>\n",
       "      <td>(28, Action)</td>\n",
       "    </tr>\n",
       "    <tr>\n",
       "      <th>1</th>\n",
       "      <td>19995</td>\n",
       "      <td>(12, Adventure)</td>\n",
       "    </tr>\n",
       "    <tr>\n",
       "      <th>2</th>\n",
       "      <td>19995</td>\n",
       "      <td>(14, Fantasy)</td>\n",
       "    </tr>\n",
       "    <tr>\n",
       "      <th>3</th>\n",
       "      <td>19995</td>\n",
       "      <td>(878, Science Fiction)</td>\n",
       "    </tr>\n",
       "    <tr>\n",
       "      <th>4</th>\n",
       "      <td>285</td>\n",
       "      <td>(12, Adventure)</td>\n",
       "    </tr>\n",
       "  </tbody>\n",
       "</table>\n",
       "</div>"
      ],
      "text/plain": [
       "  movie_id                  genres\n",
       "0    19995            (28, Action)\n",
       "1    19995         (12, Adventure)\n",
       "2    19995           (14, Fantasy)\n",
       "3    19995  (878, Science Fiction)\n",
       "4      285         (12, Adventure)"
      ]
     },
     "execution_count": 40,
     "metadata": {},
     "output_type": "execute_result"
    }
   ],
   "source": [
    "genres_exp.limit(5).toPandas()\n"
   ]
  },
  {
   "cell_type": "code",
   "execution_count": 41,
   "id": "4e1cc94c-0f06-4987-8521-d825fab88a04",
   "metadata": {},
   "outputs": [],
   "source": [
    "cols = [\"id\",\"name\"]"
   ]
  },
  {
   "cell_type": "code",
   "execution_count": 42,
   "id": "d20d35e5-5dbe-4547-a848-ad416c2de8aa",
   "metadata": {},
   "outputs": [],
   "source": [
    "for col in cols:\n",
    "    genres_exp = genres_exp.withColumn(col, F.col(\"genres\").getItem(col))\n",
    "genres = genres_exp.drop(\"genres\").na.fill(value=-9999, subset=[\"id\"])"
   ]
  },
  {
   "cell_type": "code",
   "execution_count": 43,
   "id": "6da2ecdb-900c-47a1-ac6b-6f008867507a",
   "metadata": {},
   "outputs": [
    {
     "name": "stderr",
     "output_type": "stream",
     "text": [
      "[Stage 27:>                                                         (0 + 1) / 1]\r"
     ]
    },
    {
     "name": "stdout",
     "output_type": "stream",
     "text": [
      "+--------+---+---------------+\n",
      "|movie_id| id|           name|\n",
      "+--------+---+---------------+\n",
      "|   19995| 28|         Action|\n",
      "|   19995| 12|      Adventure|\n",
      "|   19995| 14|        Fantasy|\n",
      "|   19995|878|Science Fiction|\n",
      "|     285| 12|      Adventure|\n",
      "+--------+---+---------------+\n",
      "only showing top 5 rows\n",
      "\n"
     ]
    },
    {
     "name": "stderr",
     "output_type": "stream",
     "text": [
      "                                                                                \r"
     ]
    }
   ],
   "source": [
    "genres.show(5)"
   ]
  },
  {
   "cell_type": "markdown",
   "id": "bbbe0c98-f88d-42fb-84c1-9b851659fb28",
   "metadata": {},
   "source": [
    "### KEYWORDS"
   ]
  },
  {
   "cell_type": "code",
   "execution_count": 44,
   "id": "3484e79a-cb1d-43a9-983a-26f425f4a993",
   "metadata": {},
   "outputs": [
    {
     "name": "stderr",
     "output_type": "stream",
     "text": [
      "                                                                                \r"
     ]
    },
    {
     "data": {
      "text/html": [
       "<div>\n",
       "<style scoped>\n",
       "    .dataframe tbody tr th:only-of-type {\n",
       "        vertical-align: middle;\n",
       "    }\n",
       "\n",
       "    .dataframe tbody tr th {\n",
       "        vertical-align: top;\n",
       "    }\n",
       "\n",
       "    .dataframe thead th {\n",
       "        text-align: right;\n",
       "    }\n",
       "</style>\n",
       "<table border=\"1\" class=\"dataframe\">\n",
       "  <thead>\n",
       "    <tr style=\"text-align: right;\">\n",
       "      <th></th>\n",
       "      <th>movie_id</th>\n",
       "      <th>keywords</th>\n",
       "    </tr>\n",
       "  </thead>\n",
       "  <tbody>\n",
       "    <tr>\n",
       "      <th>0</th>\n",
       "      <td>19995</td>\n",
       "      <td>(1463, culture clash)</td>\n",
       "    </tr>\n",
       "    <tr>\n",
       "      <th>1</th>\n",
       "      <td>19995</td>\n",
       "      <td>(2964, future)</td>\n",
       "    </tr>\n",
       "    <tr>\n",
       "      <th>2</th>\n",
       "      <td>19995</td>\n",
       "      <td>(3386, space war)</td>\n",
       "    </tr>\n",
       "    <tr>\n",
       "      <th>3</th>\n",
       "      <td>19995</td>\n",
       "      <td>(3388, space colony)</td>\n",
       "    </tr>\n",
       "    <tr>\n",
       "      <th>4</th>\n",
       "      <td>19995</td>\n",
       "      <td>(3679, society)</td>\n",
       "    </tr>\n",
       "  </tbody>\n",
       "</table>\n",
       "</div>"
      ],
      "text/plain": [
       "  movie_id               keywords\n",
       "0    19995  (1463, culture clash)\n",
       "1    19995         (2964, future)\n",
       "2    19995      (3386, space war)\n",
       "3    19995   (3388, space colony)\n",
       "4    19995        (3679, society)"
      ]
     },
     "execution_count": 44,
     "metadata": {},
     "output_type": "execute_result"
    }
   ],
   "source": [
    "keyword_exp = movies_tables.withColumn('movie_id', F.col(\"movie_id\").cast(StringType())) \\\n",
    "                             .withColumn('keywords', F.from_json(F.col('keywords'),schema)) \\\n",
    "                             .select('movie_id', F.explode_outer('keywords').alias('keywords'))\n",
    "keyword_exp.limit(5).toPandas()"
   ]
  },
  {
   "cell_type": "code",
   "execution_count": 45,
   "id": "cf66773c-2177-4c4b-aa16-b7a637259bec",
   "metadata": {},
   "outputs": [],
   "source": [
    "for col in cols:\n",
    "    keyword_exp = keyword_exp.withColumn(col, F.col(\"keywords\").getItem(col))\n",
    "keywords = keyword_exp.drop(\"keywords\").na.fill(value=-9999, subset=[\"id\"])"
   ]
  },
  {
   "cell_type": "code",
   "execution_count": 46,
   "id": "955d5208-d31c-4042-9718-55a75dd68b5e",
   "metadata": {},
   "outputs": [
    {
     "name": "stderr",
     "output_type": "stream",
     "text": [
      "[Stage 29:>                                                         (0 + 1) / 1]\r"
     ]
    },
    {
     "name": "stdout",
     "output_type": "stream",
     "text": [
      "+--------+----+-------------+\n",
      "|movie_id|  id|         name|\n",
      "+--------+----+-------------+\n",
      "|   19995|1463|culture clash|\n",
      "|   19995|2964|       future|\n",
      "|   19995|3386|    space war|\n",
      "|   19995|3388| space colony|\n",
      "|   19995|3679|      society|\n",
      "+--------+----+-------------+\n",
      "only showing top 5 rows\n",
      "\n"
     ]
    },
    {
     "name": "stderr",
     "output_type": "stream",
     "text": [
      "                                                                                \r"
     ]
    }
   ],
   "source": [
    "keywords.show(5)"
   ]
  },
  {
   "cell_type": "code",
   "execution_count": 47,
   "id": "4a574838-bd65-4e52-8d05-1e41a1c18689",
   "metadata": {},
   "outputs": [
    {
     "name": "stdout",
     "output_type": "stream",
     "text": [
      "root\n",
      " |-- movie_id: string (nullable = true)\n",
      " |-- id: integer (nullable = true)\n",
      " |-- name: string (nullable = true)\n",
      "\n"
     ]
    }
   ],
   "source": [
    "keywords.printSchema()"
   ]
  },
  {
   "cell_type": "markdown",
   "id": "bb02f3b3-f46c-4a2a-8e4e-c7476d23e1c9",
   "metadata": {},
   "source": [
    "### PRODUCTION COMPANIES"
   ]
  },
  {
   "cell_type": "code",
   "execution_count": 48,
   "id": "46a4d674-4ab7-4492-92d6-a9194e381707",
   "metadata": {},
   "outputs": [
    {
     "name": "stderr",
     "output_type": "stream",
     "text": [
      "                                                                                \r"
     ]
    },
    {
     "data": {
      "text/html": [
       "<div>\n",
       "<style scoped>\n",
       "    .dataframe tbody tr th:only-of-type {\n",
       "        vertical-align: middle;\n",
       "    }\n",
       "\n",
       "    .dataframe tbody tr th {\n",
       "        vertical-align: top;\n",
       "    }\n",
       "\n",
       "    .dataframe thead th {\n",
       "        text-align: right;\n",
       "    }\n",
       "</style>\n",
       "<table border=\"1\" class=\"dataframe\">\n",
       "  <thead>\n",
       "    <tr style=\"text-align: right;\">\n",
       "      <th></th>\n",
       "      <th>movie_id</th>\n",
       "      <th>production_companies</th>\n",
       "    </tr>\n",
       "  </thead>\n",
       "  <tbody>\n",
       "    <tr>\n",
       "      <th>0</th>\n",
       "      <td>19995</td>\n",
       "      <td>(289, Ingenious Film Partners)</td>\n",
       "    </tr>\n",
       "    <tr>\n",
       "      <th>1</th>\n",
       "      <td>19995</td>\n",
       "      <td>(306, Twentieth Century Fox Film Corporation)</td>\n",
       "    </tr>\n",
       "    <tr>\n",
       "      <th>2</th>\n",
       "      <td>19995</td>\n",
       "      <td>(444, Dune Entertainment)</td>\n",
       "    </tr>\n",
       "    <tr>\n",
       "      <th>3</th>\n",
       "      <td>19995</td>\n",
       "      <td>(574, Lightstorm Entertainment)</td>\n",
       "    </tr>\n",
       "    <tr>\n",
       "      <th>4</th>\n",
       "      <td>285</td>\n",
       "      <td>(2, Walt Disney Pictures)</td>\n",
       "    </tr>\n",
       "  </tbody>\n",
       "</table>\n",
       "</div>"
      ],
      "text/plain": [
       "  movie_id                           production_companies\n",
       "0    19995                 (289, Ingenious Film Partners)\n",
       "1    19995  (306, Twentieth Century Fox Film Corporation)\n",
       "2    19995                      (444, Dune Entertainment)\n",
       "3    19995                (574, Lightstorm Entertainment)\n",
       "4      285                      (2, Walt Disney Pictures)"
      ]
     },
     "execution_count": 48,
     "metadata": {},
     "output_type": "execute_result"
    }
   ],
   "source": [
    "companies = movies_tables.withColumn('movie_id', F.col(\"movie_id\").cast(StringType())) \\\n",
    "                         .withColumn('production_companies', F.from_json(F.col('production_companies'),schema)) \\\n",
    "                         .select('movie_id', F.explode_outer('production_companies').alias('production_companies'))\n",
    "companies.limit(5).toPandas()"
   ]
  },
  {
   "cell_type": "code",
   "execution_count": 49,
   "id": "b35f6728-054c-4f13-a731-d19018ffd206",
   "metadata": {},
   "outputs": [],
   "source": [
    "for col in cols:\n",
    "    companies = companies.withColumn(col, F.col(\"production_companies\").getItem(col))\n",
    "companies = companies.drop(\"production_companies\").na.fill(value=-9999, subset=[\"id\"])"
   ]
  },
  {
   "cell_type": "code",
   "execution_count": 50,
   "id": "828eb79a-0c28-4724-8eb7-a6ed0f7c410d",
   "metadata": {},
   "outputs": [
    {
     "name": "stderr",
     "output_type": "stream",
     "text": [
      "[Stage 31:>                                                         (0 + 1) / 1]\r"
     ]
    },
    {
     "name": "stdout",
     "output_type": "stream",
     "text": [
      "+--------+---+--------------------------------------+\n",
      "|movie_id|id |name                                  |\n",
      "+--------+---+--------------------------------------+\n",
      "|19995   |289|Ingenious Film Partners               |\n",
      "|19995   |306|Twentieth Century Fox Film Corporation|\n",
      "|19995   |444|Dune Entertainment                    |\n",
      "|19995   |574|Lightstorm Entertainment              |\n",
      "|285     |2  |Walt Disney Pictures                  |\n",
      "+--------+---+--------------------------------------+\n",
      "only showing top 5 rows\n",
      "\n"
     ]
    },
    {
     "name": "stderr",
     "output_type": "stream",
     "text": [
      "                                                                                \r"
     ]
    }
   ],
   "source": [
    "companies.show(5,truncate=False)"
   ]
  },
  {
   "cell_type": "code",
   "execution_count": 51,
   "id": "0c51273e-6ce8-4a8a-acd4-ff4bd50014e5",
   "metadata": {},
   "outputs": [
    {
     "name": "stdout",
     "output_type": "stream",
     "text": [
      "root\n",
      " |-- movie_id: string (nullable = true)\n",
      " |-- id: integer (nullable = true)\n",
      " |-- name: string (nullable = true)\n",
      "\n"
     ]
    }
   ],
   "source": [
    "companies.printSchema()"
   ]
  },
  {
   "cell_type": "code",
   "execution_count": 52,
   "id": "3fcbfa37-d6c1-4604-a7f8-bfb6828322e6",
   "metadata": {},
   "outputs": [],
   "source": [
    "production_companies = companies"
   ]
  },
  {
   "cell_type": "markdown",
   "id": "2c76fee7-6a2a-40bc-a8d8-55dbf8937338",
   "metadata": {},
   "source": [
    "### PRODUCTION COUNTRIES"
   ]
  },
  {
   "cell_type": "code",
   "execution_count": 53,
   "id": "6aeed515-915a-4b7b-b7f8-e254d00bd7b7",
   "metadata": {},
   "outputs": [],
   "source": [
    "countries_schema = ArrayType (StructType([\n",
    "        StructField('iso_3166_1', StringType()), \n",
    "        StructField('name', StringType())]))"
   ]
  },
  {
   "cell_type": "code",
   "execution_count": 55,
   "id": "9aee6383-ec22-4dec-9ce2-42cd3feebbe2",
   "metadata": {},
   "outputs": [],
   "source": [
    "countries_exp = movies_tables.withColumn('movie_id', F.col(\"movie_id\").cast(StringType())) \\\n",
    "                             .withColumn('production_countries',F.from_json(F.col('production_countries'),countries_schema)) \\\n",
    "                             .select('movie_id', F.explode_outer('production_countries').alias('production_countries'))"
   ]
  },
  {
   "cell_type": "code",
   "execution_count": 56,
   "id": "d2ac02fe-2504-4e22-b5f4-0bb2aaadd91d",
   "metadata": {},
   "outputs": [],
   "source": [
    "countries_cols = [\"iso_3166_1\", \"name\"]\n",
    "for col in countries_cols:\n",
    "    countries_exp = countries_exp.withColumn(col, F.col(\"production_countries\").getItem(col))\n",
    "countries = countries_exp.drop(\"production_countries\").na.fill(value=\"XX\", subset=[\"iso_3166_1\"])"
   ]
  },
  {
   "cell_type": "code",
   "execution_count": 57,
   "id": "27ce0131-59de-4f69-b4f8-5d5974b00ed9",
   "metadata": {},
   "outputs": [
    {
     "name": "stderr",
     "output_type": "stream",
     "text": [
      "[Stage 32:>                                                         (0 + 1) / 1]\r"
     ]
    },
    {
     "name": "stdout",
     "output_type": "stream",
     "text": [
      "+--------+----------+------------------------+\n",
      "|movie_id|iso_3166_1|name                    |\n",
      "+--------+----------+------------------------+\n",
      "|19995   |US        |United States of America|\n",
      "|19995   |GB        |United Kingdom          |\n",
      "|285     |US        |United States of America|\n",
      "|206647  |GB        |United Kingdom          |\n",
      "|206647  |US        |United States of America|\n",
      "+--------+----------+------------------------+\n",
      "only showing top 5 rows\n",
      "\n"
     ]
    },
    {
     "name": "stderr",
     "output_type": "stream",
     "text": [
      "                                                                                \r"
     ]
    }
   ],
   "source": [
    "countries.show(5, truncate=False)"
   ]
  },
  {
   "cell_type": "code",
   "execution_count": 58,
   "id": "b7e66513-efa3-441a-a015-5441a0604dac",
   "metadata": {},
   "outputs": [],
   "source": [
    "production_countries = countries"
   ]
  },
  {
   "cell_type": "markdown",
   "id": "004d5db3-8b37-47ef-83e1-132395ace56f",
   "metadata": {},
   "source": [
    "### SPOKEN LANGUAGES"
   ]
  },
  {
   "cell_type": "code",
   "execution_count": 59,
   "id": "65ecf898-adb9-42ca-8d49-e638371161d6",
   "metadata": {},
   "outputs": [],
   "source": [
    "languages_schema = ArrayType (StructType([\n",
    "    StructField('iso_639_1', StringType()), \n",
    "    StructField('name', StringType())]))"
   ]
  },
  {
   "cell_type": "code",
   "execution_count": 60,
   "id": "2dc44e4d-4f5c-46d1-afdd-3df6fc8e5832",
   "metadata": {},
   "outputs": [],
   "source": [
    "languages_exp = movies_tables.withColumn('movie_id', F.col(\"movie_id\").cast(StringType())) \\\n",
    "                             .withColumn('spoken_languages',F.from_json(F.col('spoken_languages'), languages_schema)) \\\n",
    "                             .select('movie_id', F.explode_outer('spoken_languages').alias('spoken_languages'))"
   ]
  },
  {
   "cell_type": "code",
   "execution_count": 61,
   "id": "d6abea02-8aa3-4bfe-b487-2a9eaa334c45",
   "metadata": {},
   "outputs": [],
   "source": [
    "languages_cols = [\"iso_639_1\", \"name\"]\n",
    "for col in languages_cols:\n",
    "    languages_exp = languages_exp.withColumn(col, F.col(\"spoken_languages\").getItem(col))\n",
    "languages = languages_exp.drop(\"spoken_languages\").na.fill(value=\"XX\", subset=[\"iso_639_1\"])"
   ]
  },
  {
   "cell_type": "code",
   "execution_count": 62,
   "id": "1d4407ba-7c0d-4bc0-824c-73840136f9d9",
   "metadata": {},
   "outputs": [
    {
     "name": "stderr",
     "output_type": "stream",
     "text": [
      "[Stage 33:>                                                         (0 + 1) / 1]\r"
     ]
    },
    {
     "name": "stdout",
     "output_type": "stream",
     "text": [
      "+--------+---------+--------+\n",
      "|movie_id|iso_639_1|name    |\n",
      "+--------+---------+--------+\n",
      "|19995   |en       |English |\n",
      "|19995   |es       |Español |\n",
      "|285     |en       |English |\n",
      "|206647  |fr       |Français|\n",
      "|206647  |en       |English |\n",
      "+--------+---------+--------+\n",
      "only showing top 5 rows\n",
      "\n"
     ]
    },
    {
     "name": "stderr",
     "output_type": "stream",
     "text": [
      "                                                                                \r"
     ]
    }
   ],
   "source": [
    "languages.show(5, truncate=False)"
   ]
  },
  {
   "cell_type": "code",
   "execution_count": 63,
   "id": "a97b5a6b-5fbb-468a-bf2c-c9b6a830bbc7",
   "metadata": {},
   "outputs": [],
   "source": [
    "spoken_languages = languages"
   ]
  },
  {
   "cell_type": "markdown",
   "id": "8dea65c8-615d-4c61-868a-575f79386251",
   "metadata": {},
   "source": [
    "### WRITE TO DELTA"
   ]
  },
  {
   "cell_type": "code",
   "execution_count": 64,
   "id": "0f7c828b-88ff-46f7-b920-708b74e478f0",
   "metadata": {},
   "outputs": [
    {
     "name": "stderr",
     "output_type": "stream",
     "text": [
      "24/03/22 18:42:26 WARN package: Truncated the string representation of a plan since it was too large. This behavior can be adjusted by setting 'spark.sql.debug.maxToStringFields'.\n",
      "                                                                                \r"
     ]
    }
   ],
   "source": [
    "tables = {'cast': cast, 'crew': crew, 'movies': movies, 'genres': genres, 'keywords': keywords, 'production_companies': production_companies, 'production_countries': production_countries, 'spoken_languages': spoken_languages}\n",
    "\n",
    "for table_name, table in tables.items():\n",
    "    deltaPath = f\"s3a://tmdb-silver/{table_name}\"\n",
    "    \n",
    "    table.write.mode(\"overwrite\").format(\"delta\").save(deltaPath)"
   ]
  }
 ],
 "metadata": {
  "kernelspec": {
   "display_name": "Python 3 (ipykernel)",
   "language": "python",
   "name": "python3"
  },
  "language_info": {
   "codemirror_mode": {
    "name": "ipython",
    "version": 3
   },
   "file_extension": ".py",
   "mimetype": "text/x-python",
   "name": "python",
   "nbconvert_exporter": "python",
   "pygments_lexer": "ipython3",
   "version": "3.8.18"
  }
 },
 "nbformat": 4,
 "nbformat_minor": 5
}
